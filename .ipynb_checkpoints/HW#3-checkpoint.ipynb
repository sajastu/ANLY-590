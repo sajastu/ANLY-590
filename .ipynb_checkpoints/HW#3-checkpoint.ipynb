{
 "cells": [
  {
   "cell_type": "markdown",
   "metadata": {},
   "source": [
    "# 1. Autoencoder"
   ]
  },
  {
   "cell_type": "code",
   "execution_count": 194,
   "metadata": {},
   "outputs": [],
   "source": [
    "import warnings\n",
    "warnings.filterwarnings('ignore')\n",
    "\n",
    "# importing MNIST dataset\n",
    "import ssl\n",
    "ssl._create_default_https_context = ssl._create_unverified_context\n",
    "from keras.datasets import mnist\n",
    "\n",
    "# importing keras modules\n",
    "import keras\n",
    "from keras.models import Model, Sequential\n",
    "from keras.layers import Dense, Dropout, Flatten, LSTM, Embedding\n",
    "from keras.layers import Conv2D,Conv1D, MaxPooling2D, MaxPooling1D, GlobalMaxPooling1D\n",
    "from keras import backend as K\n",
    "\n",
    "# OpenCV package for resizing the MNIST images\n",
    "from cv2 import *\n",
    "\n",
    "# other modules\n",
    "import numpy as np\n",
    "\n",
    "# diagrams\n",
    "import matplotlib.pyplot as plt\n",
    "\n",
    "# pretrained networks\n",
    "# from keras.applications.resnet import ResNet50\n",
    "from keras.applications.vgg16 import VGG16\n",
    "\n",
    "# categorical clothes\n",
    "from keras.utils import np_utils\n",
    "\n",
    "from sklearn.model_selection import train_test_split\n",
    "from sklearn.metrics import roc_curve\n",
    "from sklearn.metrics import auc\n",
    "\n",
    "\n",
    "# Pandas for Question 3\n",
    "import pandas as pd\n",
    "\n",
    "# TEXT packages\n",
    "from keras.preprocessing.text import Tokenizer\n",
    "from keras.preprocessing.sequence import pad_sequences\n",
    "import preprocessor as p\n",
    "p.set_options(p.OPT.URL, p.OPT.EMOJI, p.OPT.SMILEY, p.OPT.MENTION)"
   ]
  },
  {
   "cell_type": "code",
   "execution_count": 195,
   "metadata": {},
   "outputs": [
    {
     "name": "stdout",
     "output_type": "stream",
     "text": [
      "(60000, 28, 28, 1)\n"
     ]
    }
   ],
   "source": [
    "# loading MNIST dataset; we don't need labels for autoencoder though\n",
    "(x_train, y_train), (x_test, y_test) = mnist.load_data()\n",
    "x_train = x_train.astype('float32')/255.\n",
    "x_test = x_test.astype('float32')/255.\n",
    "x_train = np.reshape(x_train, (len(x_train), 28, 28, 1))\n",
    "x_test = np.reshape(x_test, (len(x_test), 28, 28, 1))\n",
    "print(x_train.shape)"
   ]
  },
  {
   "cell_type": "code",
   "execution_count": 64,
   "metadata": {},
   "outputs": [
    {
     "name": "stdout",
     "output_type": "stream",
     "text": [
      "Model: \"model_17\"\n",
      "_________________________________________________________________\n",
      "Layer (type)                 Output Shape              Param #   \n",
      "=================================================================\n",
      "input_26 (InputLayer)        (None, 28, 28, 1)         0         \n",
      "_________________________________________________________________\n",
      "conv2d_127 (Conv2D)          (None, 28, 28, 16)        160       \n",
      "_________________________________________________________________\n",
      "max_pooling2d_54 (MaxPooling (None, 14, 14, 16)        0         \n",
      "_________________________________________________________________\n",
      "conv2d_128 (Conv2D)          (None, 14, 14, 8)         1160      \n",
      "_________________________________________________________________\n",
      "max_pooling2d_55 (MaxPooling (None, 7, 7, 8)           0         \n",
      "_________________________________________________________________\n",
      "conv2d_129 (Conv2D)          (None, 7, 7, 8)           584       \n",
      "_________________________________________________________________\n",
      "max_pooling2d_56 (MaxPooling (None, 4, 4, 8)           0         \n",
      "_________________________________________________________________\n",
      "conv2d_130 (Conv2D)          (None, 4, 4, 8)           584       \n",
      "_________________________________________________________________\n",
      "up_sampling2d_52 (UpSampling (None, 8, 8, 8)           0         \n",
      "_________________________________________________________________\n",
      "conv2d_131 (Conv2D)          (None, 8, 8, 8)           584       \n",
      "_________________________________________________________________\n",
      "up_sampling2d_53 (UpSampling (None, 16, 16, 8)         0         \n",
      "_________________________________________________________________\n",
      "conv2d_132 (Conv2D)          (None, 14, 14, 16)        1168      \n",
      "_________________________________________________________________\n",
      "up_sampling2d_54 (UpSampling (None, 28, 28, 16)        0         \n",
      "_________________________________________________________________\n",
      "conv2d_133 (Conv2D)          (None, 28, 28, 1)         145       \n",
      "=================================================================\n",
      "Total params: 4,385\n",
      "Trainable params: 4,385\n",
      "Non-trainable params: 0\n",
      "_________________________________________________________________\n"
     ]
    }
   ],
   "source": [
    "input_img = Input(shape=(28, 28, 1))\n",
    "\n",
    "x = Conv2D(16, (3, 3), activation='relu', padding='same')(input_img)\n",
    "x = MaxPooling2D((2, 2), padding='same')(x)\n",
    "x = Conv2D(8, (3, 3), activation='relu', padding='same')(x)\n",
    "x = MaxPooling2D((2, 2), padding='same')(x)\n",
    "x = Conv2D(8, (3, 3), activation='relu', padding='same')(x)\n",
    "encoded = MaxPooling2D((2, 2), padding='same')(x)\n",
    "\n",
    "\n",
    "x = Conv2D(8, (3, 3), activation='relu', padding='same')(encoded)\n",
    "x = UpSampling2D((2, 2))(x)\n",
    "x = Conv2D(8, (3, 3), activation='relu', padding='same')(x)\n",
    "x = UpSampling2D((2, 2))(x)\n",
    "x = Conv2D(16, (3, 3), activation='relu')(x)\n",
    "x = UpSampling2D((2, 2))(x)\n",
    "decoded = Conv2D(1, (3, 3), activation='sigmoid', padding='same')(x)\n",
    "\n",
    "autoencoder = Model(input_img, decoded)\n",
    "autoencoder.compile(optimizer='adadelta', loss='binary_crossentropy')\n",
    "autoencoder.summary()\n"
   ]
  },
  {
   "cell_type": "code",
   "execution_count": 66,
   "metadata": {},
   "outputs": [
    {
     "name": "stdout",
     "output_type": "stream",
     "text": [
      "Train on 60000 samples, validate on 10000 samples\n",
      "Epoch 1/10\n",
      "60000/60000 [==============================] - 40s 667us/step - loss: 0.1779 - val_loss: 0.1572\n",
      "Epoch 2/10\n",
      "60000/60000 [==============================] - 50s 841us/step - loss: 0.1520 - val_loss: 0.1437\n",
      "Epoch 3/10\n",
      "60000/60000 [==============================] - 43s 720us/step - loss: 0.1398 - val_loss: 0.1315\n",
      "Epoch 4/10\n",
      "60000/60000 [==============================] - 44s 729us/step - loss: 0.1321 - val_loss: 0.1336\n",
      "Epoch 5/10\n",
      "60000/60000 [==============================] - 39s 656us/step - loss: 0.1270 - val_loss: 0.1221\n",
      "Epoch 6/10\n",
      "60000/60000 [==============================] - 50s 841us/step - loss: 0.1235 - val_loss: 0.1215\n",
      "Epoch 7/10\n",
      "60000/60000 [==============================] - 52s 868us/step - loss: 0.1211 - val_loss: 0.1170\n",
      "Epoch 8/10\n",
      "60000/60000 [==============================] - 38s 626us/step - loss: 0.1192 - val_loss: 0.1151\n",
      "Epoch 9/10\n",
      "60000/60000 [==============================] - 46s 765us/step - loss: 0.1178 - val_loss: 0.1177\n",
      "Epoch 10/10\n",
      "60000/60000 [==============================] - 41s 689us/step - loss: 0.1163 - val_loss: 0.1168\n"
     ]
    }
   ],
   "source": [
    "auto_encoder_trained = autoencoder.fit(x_train, x_train,\n",
    "                epochs=10,\n",
    "                batch_size=150,\n",
    "                shuffle=True,\n",
    "                validation_data=(x_test, x_test))"
   ]
  },
  {
   "cell_type": "code",
   "execution_count": 71,
   "metadata": {},
   "outputs": [
    {
     "data": {
      "image/png": "[encoded data removed]",
      "text/plain": [
       "<Figure size 432x288 with 1 Axes>"
      ]
     },
     "metadata": {
      "needs_background": "light"
     },
     "output_type": "display_data"
    }
   ],
   "source": [
    "plt.plot(auto_encoder_trained.history['loss'])\n",
    "plt.plot(auto_encoder_trained.history['val_loss'])\n",
    "plt.title('Autoencoder MNIST Loss')\n",
    "plt.ylabel('Loss')\n",
    "plt.xlabel('#Epoch')\n",
    "plt.legend(['Training', 'Test'], loc='upper right')\n",
    "plt.show()"
   ]
  },
  {
   "cell_type": "code",
   "execution_count": 79,
   "metadata": {},
   "outputs": [
    {
     "data": {
      "image/png": "[encoded data removed]",
      "text/plain": [
       "<Figure size 1440x288 with 20 Axes>"
      ]
     },
     "metadata": {
      "needs_background": "light"
     },
     "output_type": "display_data"
    }
   ],
   "source": [
    "output_img = autoencoder.predict(x_test)\n",
    "\n",
    "n = 10\n",
    "plt.figure(figsize=(20, 4))\n",
    "\n",
    "for i in range(n):\n",
    "    \n",
    "    # input images\n",
    "    ax = plt.subplot(2, n, i+1)\n",
    "    plt.imshow(x_test[i].reshape(28, 28))\n",
    "    plt.gray()\n",
    "    ax.get_xaxis().set_visible(False)\n",
    "    ax.get_yaxis().set_visible(False)\n",
    "    \n",
    "    # output images\n",
    "    ax = plt.subplot(2, n, i + n+1)\n",
    "    plt.imshow(output_img[i].reshape(28, 28))\n",
    "    plt.gray()\n",
    "    ax.get_xaxis().set_visible(False)\n",
    "    ax.get_yaxis().set_visible(False)\n",
    "\n",
    "plt.show()"
   ]
  },
  {
   "cell_type": "markdown",
   "metadata": {},
   "source": [
    "# 2. Image Classification"
   ]
  },
  {
   "cell_type": "markdown",
   "metadata": {},
   "source": [
    "# 2.1 Deep CNN"
   ]
  },
  {
   "cell_type": "code",
   "execution_count": 178,
   "metadata": {},
   "outputs": [],
   "source": [
    "# Categorizing the MNIST dataset to 10 classes\n",
    "y_train = np_utils.to_categorical(y_train, 10)\n",
    "y_test = np_utils.to_categorical(y_test, 10)"
   ]
  },
  {
   "cell_type": "code",
   "execution_count": 179,
   "metadata": {},
   "outputs": [
    {
     "name": "stdout",
     "output_type": "stream",
     "text": [
      "Model: \"sequential_26\"\n",
      "_________________________________________________________________\n",
      "Layer (type)                 Output Shape              Param #   \n",
      "=================================================================\n",
      "conv2d_7 (Conv2D)            (None, 28, 28, 64)        640       \n",
      "_________________________________________________________________\n",
      "max_pooling2d_7 (MaxPooling2 (None, 14, 14, 64)        0         \n",
      "_________________________________________________________________\n",
      "conv2d_8 (Conv2D)            (None, 14, 14, 64)        36928     \n",
      "_________________________________________________________________\n",
      "max_pooling2d_8 (MaxPooling2 (None, 7, 7, 64)          0         \n",
      "_________________________________________________________________\n",
      "dropout_17 (Dropout)         (None, 7, 7, 64)          0         \n",
      "_________________________________________________________________\n",
      "flatten_10 (Flatten)         (None, 3136)              0         \n",
      "_________________________________________________________________\n",
      "dense_39 (Dense)             (None, 64)                200768    \n",
      "_________________________________________________________________\n",
      "dropout_18 (Dropout)         (None, 64)                0         \n",
      "_________________________________________________________________\n",
      "dense_40 (Dense)             (None, 10)                650       \n",
      "=================================================================\n",
      "Total params: 238,986\n",
      "Trainable params: 238,986\n",
      "Non-trainable params: 0\n",
      "_________________________________________________________________\n"
     ]
    }
   ],
   "source": [
    "model = Sequential()\n",
    "conv_l1 = Conv2D(filters = 64,kernel_size=(3, 3), activation='relu', padding='same', input_shape=(28,28,1))\n",
    "model.add(conv_l1)\n",
    "model.add(MaxPooling2D(pool_size=(2,2)))\n",
    "conv_l2 = Conv2D(filters = 64,kernel_size=(3, 3), activation='relu', padding='same')\n",
    "model.add(conv_l2)\n",
    "model.add(MaxPooling2D(pool_size=(2,2)))\n",
    "model.add(Dropout(0.2))\n",
    "model.add(Flatten())\n",
    "model.add(Dense(64, activation='relu'))\n",
    "model.add(Dropout(0.5))\n",
    "model.add(Dense(10, activation='softmax'))\n",
    "\n",
    "model.summary()\n",
    "model.compile(loss='categorical_crossentropy', optimizer='adam', metrics=['accuracy'])"
   ]
  },
  {
   "cell_type": "code",
   "execution_count": 180,
   "metadata": {},
   "outputs": [
    {
     "name": "stdout",
     "output_type": "stream",
     "text": [
      "Train on 60000 samples, validate on 10000 samples\n",
      "Epoch 1/10\n",
      "60000/60000 [==============================] - 45s 755us/step - loss: 0.4108 - accuracy: 0.8722 - val_loss: 0.0757 - val_accuracy: 0.9766\n",
      "Epoch 2/10\n",
      "60000/60000 [==============================] - 47s 779us/step - loss: 0.1503 - accuracy: 0.9557 - val_loss: 0.0483 - val_accuracy: 0.9846\n",
      "Epoch 3/10\n",
      "60000/60000 [==============================] - 42s 702us/step - loss: 0.1138 - accuracy: 0.9654 - val_loss: 0.0391 - val_accuracy: 0.9873\n",
      "Epoch 4/10\n",
      "60000/60000 [==============================] - 42s 692us/step - loss: 0.0922 - accuracy: 0.9731 - val_loss: 0.0381 - val_accuracy: 0.9874\n",
      "Epoch 5/10\n",
      "60000/60000 [==============================] - 41s 691us/step - loss: 0.0823 - accuracy: 0.9756 - val_loss: 0.0322 - val_accuracy: 0.9885\n",
      "Epoch 6/10\n",
      "60000/60000 [==============================] - 41s 675us/step - loss: 0.0724 - accuracy: 0.9783 - val_loss: 0.0283 - val_accuracy: 0.9897\n",
      "Epoch 7/10\n",
      "60000/60000 [==============================] - 41s 679us/step - loss: 0.0656 - accuracy: 0.9809 - val_loss: 0.0253 - val_accuracy: 0.9915\n",
      "Epoch 8/10\n",
      "60000/60000 [==============================] - 40s 665us/step - loss: 0.0621 - accuracy: 0.9811 - val_loss: 0.0256 - val_accuracy: 0.9922\n",
      "Epoch 9/10\n",
      "60000/60000 [==============================] - 41s 691us/step - loss: 0.0559 - accuracy: 0.9828 - val_loss: 0.0251 - val_accuracy: 0.9923\n",
      "Epoch 10/10\n",
      "60000/60000 [==============================] - 39s 654us/step - loss: 0.0520 - accuracy: 0.9834 - val_loss: 0.0263 - val_accuracy: 0.9907\n"
     ]
    }
   ],
   "source": [
    "cnn_trained = model.fit(x_train,y_train,\n",
    "                        batch_size=150,epochs=10,\n",
    "                        validation_data=(x_test, y_test))"
   ]
  },
  {
   "cell_type": "code",
   "execution_count": 182,
   "metadata": {},
   "outputs": [
    {
     "name": "stdout",
     "output_type": "stream",
     "text": [
      "Train loss: 0.0520044485735707, accuracy: 0.9833999872207642\n",
      "Test loss: 0.026277515622124385, accuracy: 0.9907000064849854\n"
     ]
    }
   ],
   "source": [
    "eval_score = model.evaluate(x_test, y_test, batch_size=150, verbose = 0)\n",
    "\n",
    "print('Train loss: {}, accuracy: {}'.format(cnn_trained.history['loss'][9],cnn_trained.history['accuracy'][9])) \n",
    "print('Test loss: {}, accuracy: {}'.format(eval_score[0],eval_score[1])) \n"
   ]
  },
  {
   "cell_type": "code",
   "execution_count": 185,
   "metadata": {},
   "outputs": [
    {
     "data": {
      "image/png": "[encoded data removed]",
      "text/plain": [
       "<Figure size 432x288 with 1 Axes>"
      ]
     },
     "metadata": {
      "needs_background": "light"
     },
     "output_type": "display_data"
    }
   ],
   "source": [
    "plt.plot(cnn_trained.history['loss'])\n",
    "plt.plot(cnn_trained.history['val_loss'])\n",
    "plt.title('Deep CNN Classifier Loss')\n",
    "plt.ylabel('Loss')\n",
    "plt.xlabel('#Epoch')\n",
    "plt.legend(['Training', 'Test'], loc='upper right')\n",
    "plt.show()"
   ]
  },
  {
   "cell_type": "markdown",
   "metadata": {},
   "source": [
    "# 2.2 Transfer Learning"
   ]
  },
  {
   "cell_type": "code",
   "execution_count": 22,
   "metadata": {},
   "outputs": [
    {
     "name": "stdout",
     "output_type": "stream",
     "text": [
      "(60000, 48, 48, 3)\n",
      "(10000, 48, 48, 3)\n"
     ]
    }
   ],
   "source": [
    "# Constants\n",
    "CATS = 10\n",
    "IMG_W, IMG_H = 48, 48\n",
    "TRAIN_SIZE = x_train.shape[0]\n",
    "TEST_SIZE = x_test.shape[0]\n",
    "HIDDEN_SIZE = 300\n",
    "\n",
    "y_train = np_utils.to_categorical(y_train, CATS)\n",
    "y_test = np_utils.to_categorical(y_test, CATS)\n",
    "x_train_categorical = np.array([cv2.resize(x, (IMG_W,IMG_H)) for x in x_train])\n",
    "x_test_categorical = np.array([cv2.resize(x, (IMG_W,IMG_H)) for x in x_test])\n",
    "x_train_categorical = x_train_categorical.reshape(TRAIN_SIZE, 48, 48,1)\n",
    "x_test_categorical  = x_test_categorical.reshape(TEST_SIZE, 48, 48, 1)\n",
    "\n",
    "# Make it suitable for ResNet! i.e., repeat third dimension\n",
    "x_train_categorical = x_train_categorical.repeat(3, axis=-1)\n",
    "x_test_categorical  = x_test_categorical.repeat(3, axis=-1)\n",
    "\n",
    "print(x_train_categorical.shape)\n",
    "print(x_test_categorical.shape)"
   ]
  },
  {
   "cell_type": "code",
   "execution_count": 35,
   "metadata": {},
   "outputs": [
    {
     "name": "stdout",
     "output_type": "stream",
     "text": [
      "Downloading data from https://github.com/fchollet/deep-learning-models/releases/download/v0.1/vgg16_weights_tf_dim_ordering_tf_kernels_notop.h5\n",
      "58892288/58889256 [==============================] - 1s 0us/step\n",
      "Model: \"sequential_6\"\n",
      "_________________________________________________________________\n",
      "Layer (type)                 Output Shape              Param #   \n",
      "=================================================================\n",
      "vgg16 (Model)                (None, 1, 1, 512)         14714688  \n",
      "_________________________________________________________________\n",
      "flatten_6 (Flatten)          (None, 512)               0         \n",
      "_________________________________________________________________\n",
      "dense_9 (Dense)              (None, 300)               153900    \n",
      "_________________________________________________________________\n",
      "dense_10 (Dense)             (None, 10)                3010      \n",
      "=================================================================\n",
      "Total params: 14,871,598\n",
      "Trainable params: 156,910\n",
      "Non-trainable params: 14,714,688\n",
      "_________________________________________________________________\n"
     ]
    }
   ],
   "source": [
    "# base_model = ResNet50(weights= None, include_top=False, input_shape= (IMG_W,IMG_H,3))\n",
    "base_model_vgg = VGG16(weights= 'imagenet', include_top=False, input_shape= (IMG_W,IMG_H,3))\n",
    "\n",
    "model = Sequential()\n",
    "model.add(base_model_vgg)\n",
    "model.add(Flatten())\n",
    "model.add(Dense(HIDDEN_SIZE, activation=\"relu\"))\n",
    "model.add(Dense(CATS, activation=\"softmax\"))\n",
    "\n",
    "base_model_vgg.trainable = False\n",
    "model.summary()\n",
    "model.compile(loss=\"categorical_crossentropy\", optimizer='adam', metrics=[\"accuracy\"])\n",
    "\n"
   ]
  },
  {
   "cell_type": "code",
   "execution_count": 37,
   "metadata": {},
   "outputs": [
    {
     "name": "stdout",
     "output_type": "stream",
     "text": [
      "Train on 60000 samples, validate on 10000 samples\n",
      "Epoch 1/5\n",
      "60000/60000 [==============================] - 422s 7ms/step - loss: 0.2552 - accuracy: 0.9306 - val_loss: 0.1659 - val_accuracy: 0.9518\n",
      "Epoch 2/5\n",
      "60000/60000 [==============================] - 406s 7ms/step - loss: 0.1437 - accuracy: 0.9575 - val_loss: 0.1236 - val_accuracy: 0.9632\n",
      "Epoch 3/5\n",
      "60000/60000 [==============================] - 406s 7ms/step - loss: 0.1104 - accuracy: 0.9675 - val_loss: 0.1022 - val_accuracy: 0.9700\n",
      "Epoch 4/5\n",
      "60000/60000 [==============================] - 426s 7ms/step - loss: 0.0930 - accuracy: 0.9720 - val_loss: 0.0908 - val_accuracy: 0.9721\n",
      "Epoch 5/5\n",
      "60000/60000 [==============================] - 429s 7ms/step - loss: 0.0837 - accuracy: 0.9746 - val_loss: 0.0991 - val_accuracy: 0.9694\n"
     ]
    }
   ],
   "source": [
    "tr2_model = model.fit(x_train_categorical, y_train,\n",
    "          batch_size=200, epochs=5, \n",
    "          validation_data=(x_test_categorical, y_test))"
   ]
  },
  {
   "cell_type": "code",
   "execution_count": 38,
   "metadata": {},
   "outputs": [
    {
     "name": "stdout",
     "output_type": "stream",
     "text": [
      "Train loss: 0.08369632729018728, accuracy: 0.9746333360671997\n",
      "Test loss: 0.09907448459416628, accuracy: 0.9693999886512756\n"
     ]
    }
   ],
   "source": [
    "eval_score = model.evaluate(x_test_categorical, y_test, batch_size=150, verbose = 0)\n",
    "\n",
    "print('Train loss: {}, accuracy: {}'.format(tr2_model.history['loss'][4],tr2_model.history['accuracy'][4])) \n",
    "print('Test loss: {}, accuracy: {}'.format(eval_score[0],eval_score[1])) \n"
   ]
  },
  {
   "cell_type": "code",
   "execution_count": 40,
   "metadata": {},
   "outputs": [
    {
     "data": {
      "image/png": "[encoded data removed]",
      "text/plain": [
       "<Figure size 432x288 with 1 Axes>"
      ]
     },
     "metadata": {
      "needs_background": "light"
     },
     "output_type": "display_data"
    }
   ],
   "source": [
    "plt.plot(tr2_model.history['loss'])\n",
    "plt.plot(tr2_model.history['val_loss'])\n",
    "plt.title('Q2 Model Loss')\n",
    "plt.ylabel('Loss')\n",
    "plt.xlabel('#Epoch')\n",
    "plt.legend(['Training', 'Test'], loc='upper right')\n",
    "plt.show()"
   ]
  },
  {
   "cell_type": "markdown",
   "metadata": {},
   "source": [
    "# 3. Text Classification"
   ]
  },
  {
   "cell_type": "markdown",
   "metadata": {},
   "source": [
    "# 3.1 RNN"
   ]
  },
  {
   "cell_type": "code",
   "execution_count": 196,
   "metadata": {},
   "outputs": [
    {
     "data": {
      "text/html": [
       "<div>\n",
       "<style scoped>\n",
       "    .dataframe tbody tr th:only-of-type {\n",
       "        vertical-align: middle;\n",
       "    }\n",
       "\n",
       "    .dataframe tbody tr th {\n",
       "        vertical-align: top;\n",
       "    }\n",
       "\n",
       "    .dataframe thead th {\n",
       "        text-align: right;\n",
       "    }\n",
       "</style>\n",
       "<table border=\"1\" class=\"dataframe\">\n",
       "  <thead>\n",
       "    <tr style=\"text-align: right;\">\n",
       "      <th></th>\n",
       "      <th>id</th>\n",
       "      <th>tweet</th>\n",
       "      <th>k1</th>\n",
       "      <th>k2</th>\n",
       "      <th>k3</th>\n",
       "      <th>k4</th>\n",
       "      <th>k5</th>\n",
       "      <th>k6</th>\n",
       "      <th>k7</th>\n",
       "      <th>k8</th>\n",
       "      <th>k9</th>\n",
       "      <th>k10</th>\n",
       "      <th>k11</th>\n",
       "      <th>k12</th>\n",
       "      <th>k13</th>\n",
       "      <th>k14</th>\n",
       "      <th>k15</th>\n",
       "    </tr>\n",
       "  </thead>\n",
       "  <tbody>\n",
       "    <tr>\n",
       "      <th>0</th>\n",
       "      <td>1</td>\n",
       "      <td>Jazz for a Rainy Afternoon:  {link}</td>\n",
       "      <td>0.0</td>\n",
       "      <td>0.0</td>\n",
       "      <td>0.0</td>\n",
       "      <td>0.0</td>\n",
       "      <td>0.0</td>\n",
       "      <td>0.0</td>\n",
       "      <td>0.000</td>\n",
       "      <td>0.0</td>\n",
       "      <td>0.000</td>\n",
       "      <td>1.0</td>\n",
       "      <td>0.0</td>\n",
       "      <td>0.0</td>\n",
       "      <td>0.000</td>\n",
       "      <td>0.0</td>\n",
       "      <td>0.0</td>\n",
       "    </tr>\n",
       "    <tr>\n",
       "      <th>1</th>\n",
       "      <td>2</td>\n",
       "      <td>RT: @mention: I love rainy days.</td>\n",
       "      <td>0.0</td>\n",
       "      <td>0.0</td>\n",
       "      <td>0.0</td>\n",
       "      <td>0.0</td>\n",
       "      <td>0.0</td>\n",
       "      <td>0.0</td>\n",
       "      <td>0.000</td>\n",
       "      <td>0.0</td>\n",
       "      <td>0.000</td>\n",
       "      <td>1.0</td>\n",
       "      <td>0.0</td>\n",
       "      <td>0.0</td>\n",
       "      <td>0.000</td>\n",
       "      <td>0.0</td>\n",
       "      <td>0.0</td>\n",
       "    </tr>\n",
       "    <tr>\n",
       "      <th>2</th>\n",
       "      <td>3</td>\n",
       "      <td>Good Morning Chicago! Time to kick the Windy C...</td>\n",
       "      <td>0.0</td>\n",
       "      <td>0.0</td>\n",
       "      <td>0.0</td>\n",
       "      <td>0.0</td>\n",
       "      <td>0.0</td>\n",
       "      <td>0.0</td>\n",
       "      <td>1.000</td>\n",
       "      <td>0.0</td>\n",
       "      <td>0.000</td>\n",
       "      <td>0.0</td>\n",
       "      <td>0.0</td>\n",
       "      <td>0.0</td>\n",
       "      <td>0.000</td>\n",
       "      <td>0.0</td>\n",
       "      <td>0.0</td>\n",
       "    </tr>\n",
       "    <tr>\n",
       "      <th>3</th>\n",
       "      <td>6</td>\n",
       "      <td>Preach lol! :) RT @mention: #alliwantis this t...</td>\n",
       "      <td>0.0</td>\n",
       "      <td>0.0</td>\n",
       "      <td>0.0</td>\n",
       "      <td>0.0</td>\n",
       "      <td>0.0</td>\n",
       "      <td>0.0</td>\n",
       "      <td>0.604</td>\n",
       "      <td>0.0</td>\n",
       "      <td>0.196</td>\n",
       "      <td>0.0</td>\n",
       "      <td>0.0</td>\n",
       "      <td>0.0</td>\n",
       "      <td>0.201</td>\n",
       "      <td>0.0</td>\n",
       "      <td>0.0</td>\n",
       "    </tr>\n",
       "    <tr>\n",
       "      <th>4</th>\n",
       "      <td>9</td>\n",
       "      <td>@mention good morning sunshine</td>\n",
       "      <td>0.0</td>\n",
       "      <td>0.0</td>\n",
       "      <td>0.0</td>\n",
       "      <td>0.0</td>\n",
       "      <td>0.0</td>\n",
       "      <td>0.0</td>\n",
       "      <td>0.000</td>\n",
       "      <td>0.0</td>\n",
       "      <td>0.000</td>\n",
       "      <td>0.0</td>\n",
       "      <td>0.0</td>\n",
       "      <td>0.0</td>\n",
       "      <td>1.000</td>\n",
       "      <td>0.0</td>\n",
       "      <td>0.0</td>\n",
       "    </tr>\n",
       "  </tbody>\n",
       "</table>\n",
       "</div>"
      ],
      "text/plain": [
       "   id                                              tweet   k1   k2   k3   k4  \\\n",
       "0   1                Jazz for a Rainy Afternoon:  {link}  0.0  0.0  0.0  0.0   \n",
       "1   2                   RT: @mention: I love rainy days.  0.0  0.0  0.0  0.0   \n",
       "2   3  Good Morning Chicago! Time to kick the Windy C...  0.0  0.0  0.0  0.0   \n",
       "3   6  Preach lol! :) RT @mention: #alliwantis this t...  0.0  0.0  0.0  0.0   \n",
       "4   9                     @mention good morning sunshine  0.0  0.0  0.0  0.0   \n",
       "\n",
       "    k5   k6     k7   k8     k9  k10  k11  k12    k13  k14  k15  \n",
       "0  0.0  0.0  0.000  0.0  0.000  1.0  0.0  0.0  0.000  0.0  0.0  \n",
       "1  0.0  0.0  0.000  0.0  0.000  1.0  0.0  0.0  0.000  0.0  0.0  \n",
       "2  0.0  0.0  1.000  0.0  0.000  0.0  0.0  0.0  0.000  0.0  0.0  \n",
       "3  0.0  0.0  0.604  0.0  0.196  0.0  0.0  0.0  0.201  0.0  0.0  \n",
       "4  0.0  0.0  0.000  0.0  0.000  0.0  0.0  0.0  1.000  0.0  0.0  "
      ]
     },
     "execution_count": 196,
     "metadata": {},
     "output_type": "execute_result"
    }
   ],
   "source": [
    "tweets = pd.read_csv(\"tweets_with_labels.csv\",sep =\"\\t\")\n",
    "tweets.head()"
   ]
  },
  {
   "cell_type": "code",
   "execution_count": 197,
   "metadata": {},
   "outputs": [],
   "source": [
    "def preprocess_tweet(tweet):\n",
    "    preprocessed = p.clean(tweet.lower())\n",
    "    return preprocessed\n",
    "\n",
    "# preprocessing tweets; removing hashtags, urls, emojies, smilies, and etc.\n",
    "tweets['tweet'] = tweets['tweet'].apply(preprocess_tweet) "
   ]
  },
  {
   "cell_type": "code",
   "execution_count": 198,
   "metadata": {},
   "outputs": [],
   "source": [
    "\n",
    "tweets.head()\n",
    "\n",
    "K = 15\n",
    "\n",
    "x, y = tweets['tweet'], tweets.drop(['id','tweet'], axis=1).values\n",
    "\n",
    "# Split 80-10-10\n",
    "x_train, x_test, y_train, y_test = train_test_split(x,y, test_size=0.20, random_state=1234)\n",
    "x_val, x_test, y_val, y_test = train_test_split(x_test,y_test, test_size=0.50, random_state=1234)\n"
   ]
  },
  {
   "cell_type": "code",
   "execution_count": 200,
   "metadata": {},
   "outputs": [],
   "source": [
    "# print(x_train['tweet'])\n",
    "MAX_WORDS = 100\n",
    "\n",
    "tokenizer = Tokenizer(num_words=MAX_WORDS)\n",
    "tokenizer.fit_on_texts(x_train)\n",
    "\n",
    "x_train = tokenizer.texts_to_sequences(x_train) \n",
    "x_val = tokenizer.texts_to_sequences(x_val)\n",
    "x_test = tokenizer.texts_to_sequences(x_test)\n",
    "\n",
    "# truncate and pad input sequences\n",
    "MAX_LEN = 500\n",
    "x_train = pad_sequences(x_train, maxlen=MAX_LEN)\n",
    "x_val = pad_sequences(x_val, maxlen=MAX_LEN)\n",
    "x_test = pad_sequences(x_test, maxlen=MAX_LEN)"
   ]
  },
  {
   "cell_type": "code",
   "execution_count": 119,
   "metadata": {},
   "outputs": [
    {
     "name": "stdout",
     "output_type": "stream",
     "text": [
      "Train on 62356 samples, validate on 7795 samples\n",
      "Epoch 1/15\n",
      "62356/62356 [==============================] - 229s 4ms/step - loss: 2.1091 - accuracy: 0.5530 - val_loss: 1.6352 - val_accuracy: 0.7311\n",
      "Epoch 2/15\n",
      "62356/62356 [==============================] - 208s 3ms/step - loss: 1.5881 - accuracy: 0.7441 - val_loss: 1.5572 - val_accuracy: 0.7539\n",
      "Epoch 3/15\n",
      "62356/62356 [==============================] - 204s 3ms/step - loss: 1.5777 - accuracy: 0.7478 - val_loss: 1.5754 - val_accuracy: 0.7464\n",
      "Epoch 4/15\n",
      "62356/62356 [==============================] - 214s 3ms/step - loss: 1.5964 - accuracy: 0.7490 - val_loss: 1.5847 - val_accuracy: 0.7448\n",
      "Epoch 5/15\n",
      "62356/62356 [==============================] - 212s 3ms/step - loss: 1.6012 - accuracy: 0.7461 - val_loss: 1.5843 - val_accuracy: 0.7496\n",
      "Epoch 6/15\n",
      "62356/62356 [==============================] - 208s 3ms/step - loss: 1.6107 - accuracy: 0.7459 - val_loss: 1.5900 - val_accuracy: 0.7498\n",
      "Epoch 7/15\n",
      "62356/62356 [==============================] - 202s 3ms/step - loss: 1.6193 - accuracy: 0.7478 - val_loss: 1.6029 - val_accuracy: 0.7488\n",
      "Epoch 8/15\n",
      "62356/62356 [==============================] - 204s 3ms/step - loss: 1.6381 - accuracy: 0.7465 - val_loss: 1.6359 - val_accuracy: 0.7446\n",
      "Epoch 9/15\n",
      "62356/62356 [==============================] - 207s 3ms/step - loss: 1.6530 - accuracy: 0.7459 - val_loss: 1.6333 - val_accuracy: 0.7459\n",
      "Epoch 10/15\n",
      "62356/62356 [==============================] - 201s 3ms/step - loss: 1.6679 - accuracy: 0.7435 - val_loss: 1.6973 - val_accuracy: 0.7382\n",
      "Epoch 11/15\n",
      "62356/62356 [==============================] - 200s 3ms/step - loss: 1.6906 - accuracy: 0.7421 - val_loss: 1.6941 - val_accuracy: 0.7396\n",
      "Epoch 12/15\n",
      "62356/62356 [==============================] - 218s 3ms/step - loss: 1.7087 - accuracy: 0.7427 - val_loss: 1.6890 - val_accuracy: 0.7452\n",
      "Epoch 13/15\n",
      "62356/62356 [==============================] - 206s 3ms/step - loss: 1.7228 - accuracy: 0.7429 - val_loss: 1.7024 - val_accuracy: 0.7470\n",
      "Epoch 14/15\n",
      "62356/62356 [==============================] - 205s 3ms/step - loss: 1.7376 - accuracy: 0.7427 - val_loss: 1.7340 - val_accuracy: 0.7464\n",
      "Epoch 15/15\n",
      "62356/62356 [==============================] - 207s 3ms/step - loss: 1.7599 - accuracy: 0.7414 - val_loss: 1.7461 - val_accuracy: 0.7469\n"
     ]
    }
   ],
   "source": [
    "lstm_model = Sequential()\n",
    "lstm_model.add(Embedding(MAX_WORDS, 128))\n",
    "lstm_model.add(LSTM(64))\n",
    "lstm_model.add(Dense(15, activation ='softmax'))\n",
    "lstm_model.compile(optimizer = 'adam', loss = 'categorical_crossentropy', metrics=['accuracy'])\n",
    "lstm_trained = lstm_model.fit(x_train, y_train,\n",
    "                              epochs = 15, batch_size = 200,\n",
    "                              validation_data =(x_val,y_val),verbose=1)"
   ]
  },
  {
   "cell_type": "code",
   "execution_count": 123,
   "metadata": {},
   "outputs": [],
   "source": [
    "eval_score = lstm_model.evaluate(x_test, y_test, batch_size=150, verbose = 0)"
   ]
  },
  {
   "cell_type": "code",
   "execution_count": 127,
   "metadata": {},
   "outputs": [
    {
     "name": "stdout",
     "output_type": "stream",
     "text": [
      "Train; loss: 1.601231664413439, accuracy: 0.7460869550704956\n",
      "Test; loss: 1.7717114181530789, accuracy: 0.740346372127533\n"
     ]
    }
   ],
   "source": [
    "print('Train; loss: {}, accuracy: {}'.format(lstm_trained.history['loss'][4],lstm_trained.history['accuracy'][4])) \n",
    "print('Test; loss: {}, accuracy: {}'.format(eval_score[0],eval_score[1])) "
   ]
  },
  {
   "cell_type": "code",
   "execution_count": 126,
   "metadata": {},
   "outputs": [
    {
     "data": {
      "image/png": "[encoded data removed]",
      "text/plain": [
       "<Figure size 432x288 with 1 Axes>"
      ]
     },
     "metadata": {
      "needs_background": "light"
     },
     "output_type": "display_data"
    }
   ],
   "source": [
    "plt.plot(lstm_trained.history['loss'])\n",
    "plt.plot(lstm_trained.history['val_loss'])\n",
    "plt.title('LSTM Model Loss')\n",
    "plt.ylabel('Loss')\n",
    "plt.xlabel('#Epoch')\n",
    "plt.legend(['Training Loss', 'Eval Loss'], loc='upper right')\n",
    "plt.show()"
   ]
  },
  {
   "cell_type": "markdown",
   "metadata": {},
   "source": [
    "Seems that the model has already converged. Epoch 1 should be identified as early stopping point (if one wants to do it)"
   ]
  },
  {
   "cell_type": "markdown",
   "metadata": {},
   "source": [
    "# 3.2 CNN"
   ]
  },
  {
   "cell_type": "code",
   "execution_count": 148,
   "metadata": {},
   "outputs": [
    {
     "name": "stdout",
     "output_type": "stream",
     "text": [
      "Model: \"sequential_22\"\n",
      "_________________________________________________________________\n",
      "Layer (type)                 Output Shape              Param #   \n",
      "=================================================================\n",
      "embedding_13 (Embedding)     (None, None, 128)         12800     \n",
      "_________________________________________________________________\n",
      "conv1d_10 (Conv1D)           (None, None, 64)          24640     \n",
      "_________________________________________________________________\n",
      "global_max_pooling1d_5 (Glob (None, 64)                0         \n",
      "_________________________________________________________________\n",
      "dropout_10 (Dropout)         (None, 64)                0         \n",
      "_________________________________________________________________\n",
      "dense_31 (Dense)             (None, 64)                4160      \n",
      "_________________________________________________________________\n",
      "dense_32 (Dense)             (None, 15)                975       \n",
      "=================================================================\n",
      "Total params: 42,575\n",
      "Trainable params: 42,575\n",
      "Non-trainable params: 0\n",
      "_________________________________________________________________\n",
      "WARNING:tensorflow:From /Library/Frameworks/Python.framework/Versions/3.6/lib/python3.6/site-packages/tensorflow/python/ops/math_grad.py:1250: add_dispatch_support.<locals>.wrapper (from tensorflow.python.ops.array_ops) is deprecated and will be removed in a future version.\n",
      "Instructions for updating:\n",
      "Use tf.where in 2.0, which has the same broadcast rule as np.where\n",
      "Train on 62356 samples, validate on 7795 samples\n",
      "Epoch 1/15\n",
      "62356/62356 [==============================] - 41s 661us/step - loss: 1.7605 - acc: 0.6145 - val_loss: 1.4332 - val_acc: 0.7660\n",
      "Epoch 2/15\n",
      "62356/62356 [==============================] - 46s 741us/step - loss: 1.4593 - acc: 0.7600 - val_loss: 1.4030 - val_acc: 0.7646\n",
      "Epoch 3/15\n",
      "62356/62356 [==============================] - 45s 725us/step - loss: 1.4356 - acc: 0.7589 - val_loss: 1.4018 - val_acc: 0.7688\n",
      "Epoch 4/15\n",
      "62356/62356 [==============================] - 43s 691us/step - loss: 1.4219 - acc: 0.7611 - val_loss: 1.3896 - val_acc: 0.7674\n",
      "Epoch 5/15\n",
      "62356/62356 [==============================] - 44s 704us/step - loss: 1.4127 - acc: 0.7619 - val_loss: 1.3851 - val_acc: 0.7663\n",
      "Epoch 6/15\n",
      "62356/62356 [==============================] - 42s 666us/step - loss: 1.4046 - acc: 0.7640 - val_loss: 1.3813 - val_acc: 0.7664\n",
      "Epoch 7/15\n",
      "62356/62356 [==============================] - 41s 664us/step - loss: 1.3988 - acc: 0.7641 - val_loss: 1.3773 - val_acc: 0.7648\n",
      "Epoch 8/15\n",
      "62356/62356 [==============================] - 43s 682us/step - loss: 1.3941 - acc: 0.7637 - val_loss: 1.3825 - val_acc: 0.7673\n",
      "Epoch 9/15\n",
      "62356/62356 [==============================] - 42s 674us/step - loss: 1.3871 - acc: 0.7653 - val_loss: 1.3780 - val_acc: 0.7706\n",
      "Epoch 10/15\n",
      "62356/62356 [==============================] - 42s 678us/step - loss: 1.3821 - acc: 0.7653 - val_loss: 1.3768 - val_acc: 0.7664\n",
      "Epoch 11/15\n",
      "62356/62356 [==============================] - 42s 667us/step - loss: 1.3807 - acc: 0.7655 - val_loss: 1.3775 - val_acc: 0.7684\n",
      "Epoch 12/15\n",
      "62356/62356 [==============================] - 42s 679us/step - loss: 1.3767 - acc: 0.7651 - val_loss: 1.3786 - val_acc: 0.7660\n",
      "Epoch 13/15\n",
      "62356/62356 [==============================] - 42s 669us/step - loss: 1.3734 - acc: 0.7662 - val_loss: 1.3816 - val_acc: 0.7661\n",
      "Epoch 14/15\n",
      "62356/62356 [==============================] - 42s 678us/step - loss: 1.3676 - acc: 0.7659 - val_loss: 1.3784 - val_acc: 0.7663\n",
      "Epoch 15/15\n",
      "62356/62356 [==============================] - 42s 672us/step - loss: 1.3651 - acc: 0.7661 - val_loss: 1.3765 - val_acc: 0.7692\n"
     ]
    }
   ],
   "source": [
    "conv_model = Sequential()\n",
    "\n",
    "conv_model.add(Embedding(MAX_WORDS,128))\n",
    "\n",
    "# for text, 1D Convolution\n",
    "conv_model.add(Conv1D(64 ,3 ,activation='relu', padding='valid'))\n",
    "\n",
    "conv_model.add( GlobalMaxPooling1D() )\n",
    "\n",
    "conv_model.add( Dropout(0.2) )\n",
    "\n",
    "conv_model.add( Dense(64,activation='relu') )\n",
    "\n",
    "# K is the number of classes i.e. labels\n",
    "conv_model.add( Dense(K,activation='sigmoid') )\n",
    "conv_model.summary()\n",
    "conv_model.compile(optimizer = 'adam', loss = 'categorical_crossentropy', metrics=['acc'])\n",
    "conv_model_trained = conv_model.fit(x_train, y_train,\n",
    "                            batch_size = 100, epochs = 15,\n",
    "                            validation_data =(x_val, y_val),verbose=1)"
   ]
  },
  {
   "cell_type": "code",
   "execution_count": 149,
   "metadata": {},
   "outputs": [],
   "source": [
    "eval_score = conv_model.evaluate(x_test, y_test, batch_size=150, verbose = 0)"
   ]
  },
  {
   "cell_type": "code",
   "execution_count": 157,
   "metadata": {},
   "outputs": [
    {
     "name": "stdout",
     "output_type": "stream",
     "text": [
      "Train; loss: 1.365059420520908, accuracy: 0.7661492228507996\n",
      "Test; loss: 1.3967421489927232, accuracy: 0.7642078399658203\n"
     ]
    }
   ],
   "source": [
    "print('Train; loss: {}, accuracy: {}'.format(conv_model_trained.history['loss'][14],conv_model_trained.history['acc'][14])) \n",
    "print('Test; loss: {}, accuracy: {}'.format(eval_score[0],eval_score[1])) "
   ]
  },
  {
   "cell_type": "code",
   "execution_count": 158,
   "metadata": {},
   "outputs": [
    {
     "data": {
      "image/png": "[encoded data removed]",
      "text/plain": [
       "<Figure size 432x288 with 1 Axes>"
      ]
     },
     "metadata": {
      "needs_background": "light"
     },
     "output_type": "display_data"
    }
   ],
   "source": [
    "plt.plot(conv_model_trained.history['loss'])\n",
    "plt.plot(conv_model_trained.history['val_loss'])\n",
    "plt.title('LSTM Model Loss')\n",
    "plt.ylabel('Loss')\n",
    "plt.xlabel('#Epoch')\n",
    "plt.legend(['Training Loss', 'Eval Loss'], loc='upper right')\n",
    "plt.show()"
   ]
  },
  {
   "cell_type": "markdown",
   "metadata": {},
   "source": [
    "# 3.3 Evaluation ROCs"
   ]
  },
  {
   "cell_type": "code",
   "execution_count": 274,
   "metadata": {},
   "outputs": [],
   "source": [
    "from itertools import cycle\n",
    "from scipy import interp\n",
    "from sklearn.multiclass import OneVsRestClassifier\n",
    "from sklearn.preprocessing import label_binarize\n",
    "import numpy as np\n",
    "\n",
    "y_test_bin = np.zeros(y_test.shape)\n",
    "for j in range(len(y_test)):\n",
    "    max_label = np.amax(y_test[j])\n",
    "    for i in range(15):\n",
    "        if y_test[j][i] == max_label:\n",
    "            y_test_bin[j][i] = 1.0\n",
    "        else:\n",
    "            y_test_bin[j][i] = 0.0\n",
    "            \n",
    "    \n",
    "y = label_binarize(y_test_bin, classes=[0, 1, 2, 3, 4, 5, 6, 7, 8, 9, 10, 11, 12, 13, 14])\n",
    "\n",
    "y_pred_lstm = lstm_model.predict(x_test)\n",
    "y_pred_conv = conv_model.predict(x_test)\n"
   ]
  },
  {
   "cell_type": "code",
   "execution_count": 278,
   "metadata": {},
   "outputs": [
    {
     "data": {
      "image/png": "[encoded data removed]",
      "text/plain": [
       "<Figure size 432x288 with 1 Axes>"
      ]
     },
     "metadata": {
      "needs_background": "light"
     },
     "output_type": "display_data"
    }
   ],
   "source": [
    "#LSTM classifier \n",
    "\n",
    "fpr = dict()\n",
    "tpr = dict()\n",
    "roc_auc = dict()\n",
    "for i in range(15):\n",
    "    fpr[i], tpr[i], _ = roc_curve(y[:, i], y_pred_lstm[:, i])\n",
    "    roc_auc[i] = auc(fpr[i], tpr[i])\n",
    "\n",
    "fpr[\"micro\"], tpr[\"micro\"], _ = roc_curve(y.ravel(), y_pred_lstm_bin.ravel())\n",
    "roc_auc[\"micro\"] = auc(fpr[\"micro\"], tpr[\"micro\"])\n",
    "\n",
    "\n",
    "plt.figure()\n",
    "lw = 2\n",
    "plt.plot(fpr[2], tpr[2], color='darkorange',\n",
    "         lw=lw, label='ROC curve (area = %0.2f)' % roc_auc[2])\n",
    "plt.plot([0, 1], [0, 1], color='navy', lw=lw, linestyle='--')\n",
    "plt.xlim([0.0, 1.0])\n",
    "plt.ylim([0.0, 1.05])\n",
    "plt.xlabel('False Positive Rate')\n",
    "plt.ylabel('True Positive Rate')\n",
    "plt.title('ROC LSTM')\n",
    "plt.legend(loc=\"lower right\")\n",
    "plt.show()"
   ]
  },
  {
   "cell_type": "code",
   "execution_count": 279,
   "metadata": {
    "scrolled": true
   },
   "outputs": [
    {
     "data": {
      "image/png": "[encoded data removed]",
      "text/plain": [
       "<Figure size 432x288 with 1 Axes>"
      ]
     },
     "metadata": {
      "needs_background": "light"
     },
     "output_type": "display_data"
    }
   ],
   "source": [
    "#CNN classifier\n",
    "\n",
    "fpr = dict()\n",
    "tpr = dict()\n",
    "roc_auc = dict()\n",
    "for i in range(15):\n",
    "    fpr[i], tpr[i], _ = roc_curve(y[:, i], y_pred_conv[:, i])\n",
    "    roc_auc[i] = auc(fpr[i], tpr[i])\n",
    "\n",
    "fpr[\"micro\"], tpr[\"micro\"], _ = roc_curve(y.ravel(), y_pred_conv_bin.ravel())\n",
    "roc_auc[\"micro\"] = auc(fpr[\"micro\"], tpr[\"micro\"])\n",
    "\n",
    "plt.figure()\n",
    "lw = 2\n",
    "plt.plot(fpr[2], tpr[2], color='darkorange',\n",
    "         lw=lw, label='ROC curve (area = %0.2f)' % roc_auc[2])\n",
    "plt.plot([0, 1], [0, 1], color='navy', lw=lw, linestyle='--')\n",
    "plt.xlim([0.0, 1.0])\n",
    "plt.ylim([0.0, 1.05])\n",
    "plt.xlabel('False Positive Rate')\n",
    "plt.ylabel('True Positive Rate')\n",
    "plt.title('ROC CNN')\n",
    "plt.legend(loc=\"lower right\")\n",
    "plt.show()"
   ]
  },
  {
   "cell_type": "markdown",
   "metadata": {},
   "source": [
    "Seems that LSTM classifier performs slightly better than CNN classifier.  "
   ]
  }
 ],
 "metadata": {
  "kernelspec": {
   "display_name": "Python 3",
   "language": "python",
   "name": "python3"
  },
  "language_info": {
   "codemirror_mode": {
    "name": "ipython",
    "version": 3
   },
   "file_extension": ".py",
   "mimetype": "text/x-python",
   "name": "python",
   "nbconvert_exporter": "python",
   "pygments_lexer": "ipython3",
   "version": "3.6.4"
  }
 },
 "nbformat": 4,
 "nbformat_minor": 2
}
