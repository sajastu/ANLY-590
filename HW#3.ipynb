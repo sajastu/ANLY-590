{
 "cells": [
  {
   "cell_type": "markdown",
   "metadata": {},
   "source": [
    "# 1. Autoencoder"
   ]
  },
  {
   "cell_type": "code",
   "execution_count": 30,
   "metadata": {},
   "outputs": [],
   "source": [
    "import warnings\n",
    "warnings.filterwarnings('ignore')\n",
    "\n",
    "# importing MNIST dataset\n",
    "import ssl\n",
    "ssl._create_default_https_context = ssl._create_unverified_context\n",
    "from keras.datasets import mnist\n",
    "\n",
    "# importing keras modules\n",
    "import keras\n",
    "from keras.models import Model, Sequential\n",
    "from keras.layers import Dense, Dropout, Flatten\n",
    "from keras.layers import Conv2D, MaxPooling2D\n",
    "from keras import backend as K\n",
    "\n",
    "# OpenCV package for resizing the MNIST images\n",
    "from cv2 import *\n",
    "\n",
    "# other modules\n",
    "import numpy as np\n",
    "\n",
    "# diagrams\n",
    "import matplotlib.pyplot as plt\n",
    "\n",
    "# pretrained networks\n",
    "# from keras.applications.resnet import ResNet50\n",
    "from keras.applications.vgg16 import VGG16\n",
    "\n",
    "# categorical clothes\n",
    "from keras.utils import np_utils\n",
    "\n"
   ]
  },
  {
   "cell_type": "code",
   "execution_count": 21,
   "metadata": {},
   "outputs": [
    {
     "name": "stdout",
     "output_type": "stream",
     "text": [
      "(10000, 28, 28, 1)\n"
     ]
    }
   ],
   "source": [
    "# loading MNIST dataset; we don't need labels!\n",
    "(x_train, y_train), (x_test, y_test) = mnist.load_data()\n",
    "x_train = x_train.astype('float32') / 255.\n",
    "x_test = x_test.astype('float32') / 255.\n",
    "x_train = np.reshape(x_train, (len(x_train), 28, 28, 1))\n",
    "x_test = np.reshape(x_test, (len(x_test), 28, 28, 1))\n",
    "\n",
    "print(x_test.shape)"
   ]
  },
  {
   "cell_type": "code",
   "execution_count": 64,
   "metadata": {},
   "outputs": [
    {
     "name": "stdout",
     "output_type": "stream",
     "text": [
      "Model: \"model_17\"\n",
      "_________________________________________________________________\n",
      "Layer (type)                 Output Shape              Param #   \n",
      "=================================================================\n",
      "input_26 (InputLayer)        (None, 28, 28, 1)         0         \n",
      "_________________________________________________________________\n",
      "conv2d_127 (Conv2D)          (None, 28, 28, 16)        160       \n",
      "_________________________________________________________________\n",
      "max_pooling2d_54 (MaxPooling (None, 14, 14, 16)        0         \n",
      "_________________________________________________________________\n",
      "conv2d_128 (Conv2D)          (None, 14, 14, 8)         1160      \n",
      "_________________________________________________________________\n",
      "max_pooling2d_55 (MaxPooling (None, 7, 7, 8)           0         \n",
      "_________________________________________________________________\n",
      "conv2d_129 (Conv2D)          (None, 7, 7, 8)           584       \n",
      "_________________________________________________________________\n",
      "max_pooling2d_56 (MaxPooling (None, 4, 4, 8)           0         \n",
      "_________________________________________________________________\n",
      "conv2d_130 (Conv2D)          (None, 4, 4, 8)           584       \n",
      "_________________________________________________________________\n",
      "up_sampling2d_52 (UpSampling (None, 8, 8, 8)           0         \n",
      "_________________________________________________________________\n",
      "conv2d_131 (Conv2D)          (None, 8, 8, 8)           584       \n",
      "_________________________________________________________________\n",
      "up_sampling2d_53 (UpSampling (None, 16, 16, 8)         0         \n",
      "_________________________________________________________________\n",
      "conv2d_132 (Conv2D)          (None, 14, 14, 16)        1168      \n",
      "_________________________________________________________________\n",
      "up_sampling2d_54 (UpSampling (None, 28, 28, 16)        0         \n",
      "_________________________________________________________________\n",
      "conv2d_133 (Conv2D)          (None, 28, 28, 1)         145       \n",
      "=================================================================\n",
      "Total params: 4,385\n",
      "Trainable params: 4,385\n",
      "Non-trainable params: 0\n",
      "_________________________________________________________________\n"
     ]
    }
   ],
   "source": [
    "input_img = Input(shape=(28, 28, 1))\n",
    "\n",
    "x = Conv2D(16, (3, 3), activation='relu', padding='same')(input_img)\n",
    "x = MaxPooling2D((2, 2), padding='same')(x)\n",
    "x = Conv2D(8, (3, 3), activation='relu', padding='same')(x)\n",
    "x = MaxPooling2D((2, 2), padding='same')(x)\n",
    "x = Conv2D(8, (3, 3), activation='relu', padding='same')(x)\n",
    "encoded = MaxPooling2D((2, 2), padding='same')(x)\n",
    "\n",
    "\n",
    "x = Conv2D(8, (3, 3), activation='relu', padding='same')(encoded)\n",
    "x = UpSampling2D((2, 2))(x)\n",
    "x = Conv2D(8, (3, 3), activation='relu', padding='same')(x)\n",
    "x = UpSampling2D((2, 2))(x)\n",
    "x = Conv2D(16, (3, 3), activation='relu')(x)\n",
    "x = UpSampling2D((2, 2))(x)\n",
    "decoded = Conv2D(1, (3, 3), activation='sigmoid', padding='same')(x)\n",
    "\n",
    "autoencoder = Model(input_img, decoded)\n",
    "autoencoder.compile(optimizer='adadelta', loss='binary_crossentropy')\n",
    "autoencoder.summary()\n"
   ]
  },
  {
   "cell_type": "code",
   "execution_count": 66,
   "metadata": {},
   "outputs": [
    {
     "name": "stdout",
     "output_type": "stream",
     "text": [
      "Train on 60000 samples, validate on 10000 samples\n",
      "Epoch 1/10\n",
      "60000/60000 [==============================] - 40s 667us/step - loss: 0.1779 - val_loss: 0.1572\n",
      "Epoch 2/10\n",
      "60000/60000 [==============================] - 50s 841us/step - loss: 0.1520 - val_loss: 0.1437\n",
      "Epoch 3/10\n",
      "60000/60000 [==============================] - 43s 720us/step - loss: 0.1398 - val_loss: 0.1315\n",
      "Epoch 4/10\n",
      "60000/60000 [==============================] - 44s 729us/step - loss: 0.1321 - val_loss: 0.1336\n",
      "Epoch 5/10\n",
      "60000/60000 [==============================] - 39s 656us/step - loss: 0.1270 - val_loss: 0.1221\n",
      "Epoch 6/10\n",
      "60000/60000 [==============================] - 50s 841us/step - loss: 0.1235 - val_loss: 0.1215\n",
      "Epoch 7/10\n",
      "60000/60000 [==============================] - 52s 868us/step - loss: 0.1211 - val_loss: 0.1170\n",
      "Epoch 8/10\n",
      "60000/60000 [==============================] - 38s 626us/step - loss: 0.1192 - val_loss: 0.1151\n",
      "Epoch 9/10\n",
      "60000/60000 [==============================] - 46s 765us/step - loss: 0.1178 - val_loss: 0.1177\n",
      "Epoch 10/10\n",
      "60000/60000 [==============================] - 41s 689us/step - loss: 0.1163 - val_loss: 0.1168\n"
     ]
    }
   ],
   "source": [
    "auto_encoder_trained = autoencoder.fit(x_train, x_train,\n",
    "                epochs=10,\n",
    "                batch_size=150,\n",
    "                shuffle=True,\n",
    "                validation_data=(x_test, x_test))"
   ]
  },
  {
   "cell_type": "code",
   "execution_count": 71,
   "metadata": {},
   "outputs": [
    {
     "data": {
      "image/png": "[encoded data removed]",
      "text/plain": [
       "<Figure size 432x288 with 1 Axes>"
      ]
     },
     "metadata": {
      "needs_background": "light"
     },
     "output_type": "display_data"
    }
   ],
   "source": [
    "plt.plot(auto_encoder_trained.history['loss'])\n",
    "plt.plot(auto_encoder_trained.history['val_loss'])\n",
    "plt.title('Autoencoder MNIST Loss')\n",
    "plt.ylabel('Loss')\n",
    "plt.xlabel('#Epoch')\n",
    "plt.legend(['Training', 'Test'], loc='upper right')\n",
    "plt.show()"
   ]
  },
  {
   "cell_type": "code",
   "execution_count": 79,
   "metadata": {},
   "outputs": [
    {
     "data": {
      "image/png": "[encoded data removed]",
      "text/plain": [
       "<Figure size 1440x288 with 20 Axes>"
      ]
     },
     "metadata": {
      "needs_background": "light"
     },
     "output_type": "display_data"
    }
   ],
   "source": [
    "output_img = autoencoder.predict(x_test)\n",
    "\n",
    "n = 10\n",
    "plt.figure(figsize=(20, 4))\n",
    "\n",
    "for i in range(n):\n",
    "    \n",
    "    # input images\n",
    "    ax = plt.subplot(2, n, i+1)\n",
    "    plt.imshow(x_test[i].reshape(28, 28))\n",
    "    plt.gray()\n",
    "    ax.get_xaxis().set_visible(False)\n",
    "    ax.get_yaxis().set_visible(False)\n",
    "    \n",
    "    # output images\n",
    "    ax = plt.subplot(2, n, i + n+1)\n",
    "    plt.imshow(output_img[i].reshape(28, 28))\n",
    "    plt.gray()\n",
    "    ax.get_xaxis().set_visible(False)\n",
    "    ax.get_yaxis().set_visible(False)\n",
    "\n",
    "plt.show()"
   ]
  },
  {
   "cell_type": "markdown",
   "metadata": {},
   "source": [
    "# 2. Image Classification"
   ]
  },
  {
   "cell_type": "markdown",
   "metadata": {},
   "source": [
    "# 2.1 Deep CNN"
   ]
  },
  {
   "cell_type": "code",
   "execution_count": 80,
   "metadata": {},
   "outputs": [
    {
     "name": "stdout",
     "output_type": "stream",
     "text": [
      "Model: \"sequential_2\"\n",
      "_________________________________________________________________\n",
      "Layer (type)                 Output Shape              Param #   \n",
      "=================================================================\n",
      "conv2d_134 (Conv2D)          (None, 28, 28, 64)        640       \n",
      "_________________________________________________________________\n",
      "max_pooling2d_57 (MaxPooling (None, 14, 14, 64)        0         \n",
      "_________________________________________________________________\n",
      "conv2d_135 (Conv2D)          (None, 14, 14, 64)        36928     \n",
      "_________________________________________________________________\n",
      "max_pooling2d_58 (MaxPooling (None, 7, 7, 64)          0         \n",
      "_________________________________________________________________\n",
      "dropout_3 (Dropout)          (None, 7, 7, 64)          0         \n",
      "_________________________________________________________________\n",
      "flatten_2 (Flatten)          (None, 3136)              0         \n",
      "_________________________________________________________________\n",
      "dense_3 (Dense)              (None, 64)                200768    \n",
      "_________________________________________________________________\n",
      "dropout_4 (Dropout)          (None, 64)                0         \n",
      "_________________________________________________________________\n",
      "dense_4 (Dense)              (None, 10)                650       \n",
      "=================================================================\n",
      "Total params: 238,986\n",
      "Trainable params: 238,986\n",
      "Non-trainable params: 0\n",
      "_________________________________________________________________\n"
     ]
    }
   ],
   "source": [
    "model = Sequential()\n",
    "conv_l1 = Conv2D(filters = 64,kernel_size=(3, 3), activation='relu', padding='same', input_shape=(28,28,1))\n",
    "model.add(conv_l1)\n",
    "model.add(MaxPooling2D(pool_size=(2,2)))\n",
    "conv_l2 = Conv2D(filters = 64,kernel_size=(3, 3), activation='relu', padding='same')\n",
    "model.add(conv_l2)\n",
    "model.add(MaxPooling2D(pool_size=(2,2)))\n",
    "model.add(Dropout(0.2))\n",
    "model.add(Flatten())\n",
    "model.add(Dense(64, activation='relu'))\n",
    "model.add(Dropout(0.5))\n",
    "model.add(Dense(10, activation='softmax'))\n",
    "\n",
    "model.summary()\n",
    "model.compile(loss='categorical_crossentropy', optimizer='adam', metrics=['accuracy'])"
   ]
  },
  {
   "cell_type": "code",
   "execution_count": 81,
   "metadata": {},
   "outputs": [
    {
     "name": "stdout",
     "output_type": "stream",
     "text": [
      "Train on 60000 samples, validate on 10000 samples\n",
      "Epoch 1/20\n",
      "60000/60000 [==============================] - 42s 700us/step - loss: 0.4088 - accuracy: 0.8726 - val_loss: 0.0681 - val_accuracy: 0.9787\n",
      "Epoch 2/20\n",
      "60000/60000 [==============================] - 40s 666us/step - loss: 0.1427 - accuracy: 0.9593 - val_loss: 0.0422 - val_accuracy: 0.9866\n",
      "Epoch 3/20\n",
      "60000/60000 [==============================] - 45s 752us/step - loss: 0.1079 - accuracy: 0.9685 - val_loss: 0.0351 - val_accuracy: 0.9881\n",
      "Epoch 4/20\n",
      "60000/60000 [==============================] - 44s 728us/step - loss: 0.0871 - accuracy: 0.9740 - val_loss: 0.0302 - val_accuracy: 0.9904\n",
      "Epoch 5/20\n",
      "60000/60000 [==============================] - 45s 746us/step - loss: 0.0777 - accuracy: 0.9767 - val_loss: 0.0295 - val_accuracy: 0.9901\n",
      "Epoch 6/20\n",
      "60000/60000 [==============================] - 52s 861us/step - loss: 0.0719 - accuracy: 0.9790 - val_loss: 0.0289 - val_accuracy: 0.9905\n",
      "Epoch 7/20\n",
      "60000/60000 [==============================] - 45s 748us/step - loss: 0.0673 - accuracy: 0.9805 - val_loss: 0.0287 - val_accuracy: 0.9900\n",
      "Epoch 8/20\n",
      "60000/60000 [==============================] - 42s 698us/step - loss: 0.0584 - accuracy: 0.9822 - val_loss: 0.0231 - val_accuracy: 0.9919\n",
      "Epoch 9/20\n",
      "60000/60000 [==============================] - 44s 728us/step - loss: 0.0540 - accuracy: 0.9836 - val_loss: 0.0239 - val_accuracy: 0.9928\n",
      "Epoch 10/20\n",
      "60000/60000 [==============================] - 43s 716us/step - loss: 0.0514 - accuracy: 0.9844 - val_loss: 0.0239 - val_accuracy: 0.9922\n",
      "Epoch 11/20\n",
      "60000/60000 [==============================] - 42s 701us/step - loss: 0.0479 - accuracy: 0.9853 - val_loss: 0.0245 - val_accuracy: 0.9916\n",
      "Epoch 12/20\n",
      "60000/60000 [==============================] - 44s 725us/step - loss: 0.0456 - accuracy: 0.9855 - val_loss: 0.0228 - val_accuracy: 0.9931\n",
      "Epoch 13/20\n",
      "60000/60000 [==============================] - 47s 776us/step - loss: 0.0435 - accuracy: 0.9862 - val_loss: 0.0220 - val_accuracy: 0.9928\n",
      "Epoch 14/20\n",
      "60000/60000 [==============================] - 46s 759us/step - loss: 0.0424 - accuracy: 0.9869 - val_loss: 0.0228 - val_accuracy: 0.9929\n",
      "Epoch 15/20\n",
      "60000/60000 [==============================] - 48s 808us/step - loss: 0.0394 - accuracy: 0.9877 - val_loss: 0.0211 - val_accuracy: 0.9935\n",
      "Epoch 16/20\n",
      "60000/60000 [==============================] - 42s 704us/step - loss: 0.0367 - accuracy: 0.9880 - val_loss: 0.0195 - val_accuracy: 0.9941\n",
      "Epoch 17/20\n",
      "60000/60000 [==============================] - 40s 672us/step - loss: 0.0339 - accuracy: 0.9891 - val_loss: 0.0239 - val_accuracy: 0.9927\n",
      "Epoch 18/20\n",
      "60000/60000 [==============================] - 40s 671us/step - loss: 0.0330 - accuracy: 0.9895 - val_loss: 0.0269 - val_accuracy: 0.9923\n",
      "Epoch 19/20\n",
      "60000/60000 [==============================] - 42s 696us/step - loss: 0.0321 - accuracy: 0.9902 - val_loss: 0.0252 - val_accuracy: 0.9932\n",
      "Epoch 20/20\n",
      "60000/60000 [==============================] - 41s 680us/step - loss: 0.0322 - accuracy: 0.9896 - val_loss: 0.0253 - val_accuracy: 0.9927\n"
     ]
    }
   ],
   "source": [
    "cnn_trained = model.fit(x_train,y_train,batch_size=150,epochs=20,validation_data=(x_test, y_test))"
   ]
  },
  {
   "cell_type": "markdown",
   "metadata": {},
   "source": [
    "# 2.2 Transfer Learning"
   ]
  },
  {
   "cell_type": "code",
   "execution_count": 22,
   "metadata": {},
   "outputs": [
    {
     "name": "stdout",
     "output_type": "stream",
     "text": [
      "(60000, 48, 48, 3)\n",
      "(10000, 48, 48, 3)\n"
     ]
    }
   ],
   "source": [
    "# Constants\n",
    "CATS = 10\n",
    "IMG_W, IMG_H = 48, 48\n",
    "TRAIN_SIZE = x_train.shape[0]\n",
    "TEST_SIZE = x_test.shape[0]\n",
    "HIDDEN_SIZE = 300\n",
    "\n",
    "y_train = np_utils.to_categorical(y_train, CATS)\n",
    "y_test = np_utils.to_categorical(y_test, CATS)\n",
    "x_train_categorical = np.array([cv2.resize(x, (IMG_W,IMG_H)) for x in x_train])\n",
    "x_test_categorical = np.array([cv2.resize(x, (IMG_W,IMG_H)) for x in x_test])\n",
    "x_train_categorical = x_train_categorical.reshape(TRAIN_SIZE, 48, 48,1)\n",
    "x_test_categorical  = x_test_categorical.reshape(TEST_SIZE, 48, 48, 1)\n",
    "\n",
    "# Make it suitable for ResNet! i.e., repeat third dimension\n",
    "x_train_categorical = x_train_categorical.repeat(3, axis=-1)\n",
    "x_test_categorical  = x_test_categorical.repeat(3, axis=-1)\n",
    "\n",
    "print(x_train_categorical.shape)\n",
    "print(x_test_categorical.shape)"
   ]
  },
  {
   "cell_type": "code",
   "execution_count": 35,
   "metadata": {},
   "outputs": [
    {
     "name": "stdout",
     "output_type": "stream",
     "text": [
      "Downloading data from https://github.com/fchollet/deep-learning-models/releases/download/v0.1/vgg16_weights_tf_dim_ordering_tf_kernels_notop.h5\n",
      "58892288/58889256 [==============================] - 1s 0us/step\n",
      "Model: \"sequential_6\"\n",
      "_________________________________________________________________\n",
      "Layer (type)                 Output Shape              Param #   \n",
      "=================================================================\n",
      "vgg16 (Model)                (None, 1, 1, 512)         14714688  \n",
      "_________________________________________________________________\n",
      "flatten_6 (Flatten)          (None, 512)               0         \n",
      "_________________________________________________________________\n",
      "dense_9 (Dense)              (None, 300)               153900    \n",
      "_________________________________________________________________\n",
      "dense_10 (Dense)             (None, 10)                3010      \n",
      "=================================================================\n",
      "Total params: 14,871,598\n",
      "Trainable params: 156,910\n",
      "Non-trainable params: 14,714,688\n",
      "_________________________________________________________________\n"
     ]
    }
   ],
   "source": [
    "# base_model = ResNet50(weights= None, include_top=False, input_shape= (IMG_W,IMG_H,3))\n",
    "base_model_vgg = VGG16(weights= 'imagenet', include_top=False, input_shape= (IMG_W,IMG_H,3))\n",
    "\n",
    "model = Sequential()\n",
    "model.add(base_model_vgg)\n",
    "model.add(Flatten())\n",
    "model.add(Dense(HIDDEN_SIZE, activation=\"relu\"))\n",
    "model.add(Dense(CATS, activation=\"softmax\"))\n",
    "\n",
    "base_model_vgg.trainable = False\n",
    "model.summary()\n",
    "model.compile(loss=\"categorical_crossentropy\", optimizer='adam', metrics=[\"accuracy\"])\n",
    "\n"
   ]
  },
  {
   "cell_type": "code",
   "execution_count": 37,
   "metadata": {},
   "outputs": [
    {
     "name": "stdout",
     "output_type": "stream",
     "text": [
      "Train on 60000 samples, validate on 10000 samples\n",
      "Epoch 1/5\n",
      "60000/60000 [==============================] - 422s 7ms/step - loss: 0.2552 - accuracy: 0.9306 - val_loss: 0.1659 - val_accuracy: 0.9518\n",
      "Epoch 2/5\n",
      "60000/60000 [==============================] - 406s 7ms/step - loss: 0.1437 - accuracy: 0.9575 - val_loss: 0.1236 - val_accuracy: 0.9632\n",
      "Epoch 3/5\n",
      "60000/60000 [==============================] - 406s 7ms/step - loss: 0.1104 - accuracy: 0.9675 - val_loss: 0.1022 - val_accuracy: 0.9700\n",
      "Epoch 4/5\n",
      "60000/60000 [==============================] - 426s 7ms/step - loss: 0.0930 - accuracy: 0.9720 - val_loss: 0.0908 - val_accuracy: 0.9721\n",
      "Epoch 5/5\n",
      "60000/60000 [==============================] - 429s 7ms/step - loss: 0.0837 - accuracy: 0.9746 - val_loss: 0.0991 - val_accuracy: 0.9694\n"
     ]
    }
   ],
   "source": [
    "tr2_model = model.fit(x_train_categorical, y_train,\n",
    "          batch_size=200, epochs=5, \n",
    "          validation_data=(x_test_categorical, y_test))"
   ]
  },
  {
   "cell_type": "code",
   "execution_count": 38,
   "metadata": {},
   "outputs": [
    {
     "name": "stdout",
     "output_type": "stream",
     "text": [
      "Train loss: 0.08369632729018728, accuracy: 0.9746333360671997\n",
      "Test loss: 0.09907448459416628, accuracy: 0.9693999886512756\n"
     ]
    }
   ],
   "source": [
    "eval_score = model.evaluate(x_test_categorical, y_test, batch_size=150, verbose = 0)\n",
    "\n",
    "print('Train loss: {}, accuracy: {}'.format(tr2_model.history['loss'][4],tr2_model.history['accuracy'][4])) \n",
    "print('Test loss: {}, accuracy: {}'.format(eval_score[0],eval_score[1])) \n"
   ]
  },
  {
   "cell_type": "code",
   "execution_count": 40,
   "metadata": {},
   "outputs": [
    {
     "data": {
      "image/png": "[encoded data removed]",
      "text/plain": [
       "<Figure size 432x288 with 1 Axes>"
      ]
     },
     "metadata": {
      "needs_background": "light"
     },
     "output_type": "display_data"
    }
   ],
   "source": [
    "plt.plot(tr2_model.history['loss'])\n",
    "plt.plot(tr2_model.history['val_loss'])\n",
    "plt.title('Q2 Model Loss')\n",
    "plt.ylabel('Loss')\n",
    "plt.xlabel('#Epoch')\n",
    "plt.legend(['Training', 'Test'], loc='upper right')\n",
    "plt.show()"
   ]
  },
  {
   "cell_type": "code",
   "execution_count": null,
   "metadata": {},
   "outputs": [],
   "source": []
  }
 ],
 "metadata": {
  "kernelspec": {
   "display_name": "Python 3",
   "language": "python",
   "name": "python3"
  },
  "language_info": {
   "codemirror_mode": {
    "name": "ipython",
    "version": 3
   },
   "file_extension": ".py",
   "mimetype": "text/x-python",
   "name": "python",
   "nbconvert_exporter": "python",
   "pygments_lexer": "ipython3",
   "version": "3.6.4"
  }
 },
 "nbformat": 4,
 "nbformat_minor": 2
}
